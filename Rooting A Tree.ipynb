{
 "cells": [
  {
   "cell_type": "code",
   "execution_count": 1,
   "id": "c43adb2b-89ab-401d-a679-e8e7c67db78c",
   "metadata": {},
   "outputs": [],
   "source": [
    "class TreeNode:\n",
    "    def __init__(self, id, parent = None, children =  []):\n",
    "        self.id = id\n",
    "        self.parent = parent\n",
    "        self.children = children"
   ]
  },
  {
   "cell_type": "code",
   "execution_count": 2,
   "id": "7b0d2623-ee0a-4ce8-8165-2aefcdefa7c0",
   "metadata": {},
   "outputs": [],
   "source": [
    "g = {0:[1,2,5], 1:[], 2 : [3], 3:[], 5:[4,6] , 4:[], 6:[]}"
   ]
  },
  {
   "cell_type": "code",
   "execution_count": 3,
   "id": "23ffc3da-453a-4078-893a-80cc0e9e5ebf",
   "metadata": {},
   "outputs": [],
   "source": [
    "def rootTree(g, rootId = 0):\n",
    "    root = TreeNode(rootId, None, [])\n",
    "    return buildTree(g, root, None)"
   ]
  },
  {
   "cell_type": "code",
   "execution_count": 6,
   "id": "365bc534-9ad2-46e3-9b7c-aab8fca5c292",
   "metadata": {},
   "outputs": [],
   "source": [
    "def buildTree(g, node, parent):\n",
    "    for childId in g[node.id]:\n",
    "        if parent != None and childId == parent.id:\n",
    "            continue\n",
    "        child = TreeNode(childId, node, [])\n",
    "        node.children.append(child)\n",
    "        buildTree(g, child, node)\n",
    "    return node"
   ]
  },
  {
   "cell_type": "code",
   "execution_count": 7,
   "id": "bcbb3a5f-074e-4722-a47b-c7bf671b1bc0",
   "metadata": {},
   "outputs": [
    {
     "data": {
      "text/plain": [
       "<__main__.TreeNode at 0x7f0164313550>"
      ]
     },
     "execution_count": 7,
     "metadata": {},
     "output_type": "execute_result"
    }
   ],
   "source": [
    "rootTree(g, 0)"
   ]
  },
  {
   "cell_type": "code",
   "execution_count": 8,
   "id": "02d74042-dfef-4e42-8495-d13229ead822",
   "metadata": {},
   "outputs": [],
   "source": [
    "r = rootTree(g,0)"
   ]
  },
  {
   "cell_type": "code",
   "execution_count": 11,
   "id": "d6e4b571-d918-41f2-bb9b-93a612d5d1e3",
   "metadata": {},
   "outputs": [],
   "source": [
    "visited = [False]*len(g)"
   ]
  },
  {
   "cell_type": "code",
   "execution_count": 12,
   "id": "17dbedbb-1b9a-46ff-8a0a-51ffe4a3432e",
   "metadata": {},
   "outputs": [
    {
     "data": {
      "text/plain": [
       "[False, False, False, False, False, False, False]"
      ]
     },
     "execution_count": 12,
     "metadata": {},
     "output_type": "execute_result"
    }
   ],
   "source": [
    "visited"
   ]
  },
  {
   "cell_type": "code",
   "execution_count": 23,
   "id": "9ef0bd38-8ede-4c82-9dec-57ac7f393a4d",
   "metadata": {},
   "outputs": [
    {
     "name": "stdout",
     "output_type": "stream",
     "text": [
      "0\n",
      "  1\n",
      "  2\n",
      "    3\n",
      "  5\n",
      "    4\n",
      "    6\n"
     ]
    }
   ],
   "source": [
    "def print_tree_dfs(node, depth=0):\n",
    "    if node is None:\n",
    "        return\n",
    "    print(\"  \" * depth + str(node.id))  # Print the node ID with appropriate indentation\n",
    "    for child in node.children:\n",
    "        print_tree_dfs(child, depth + 1)  # Recursive call for children\n",
    "\n",
    "# Example usage: Printing the tree rooted at 'r' using DFS\n",
    "print_tree_dfs(r)"
   ]
  },
  {
   "cell_type": "code",
   "execution_count": 25,
   "id": "2a863254-92bc-48d4-a2da-6aedebb3f223",
   "metadata": {
    "scrolled": true
   },
   "outputs": [
    {
     "name": "stdout",
     "output_type": "stream",
     "text": [
      "0 \n",
      "1 2 5 \n",
      "3 4 6 \n"
     ]
    }
   ],
   "source": [
    "from collections import deque\n",
    "\n",
    "# Assuming 'r' is the root of the tree constructed using the provided functions\n",
    "\n",
    "def print_tree_bfs(root):\n",
    "    if root is None:\n",
    "        return\n",
    "\n",
    "    queue = deque()\n",
    "    queue.append(root)\n",
    "\n",
    "    while queue:\n",
    "        level_size = len(queue)\n",
    "\n",
    "        for i in range(level_size):\n",
    "            node = queue.popleft()\n",
    "            print(node.id, end=\" \")  # Print the node ID\n",
    "            for child in node.children:\n",
    "                queue.append(child)\n",
    "\n",
    "        print()  # Move to the next line for the next level\n",
    "\n",
    "# Example usage: Printing the tree rooted at 'r' using BFS\n",
    "print_tree_bfs(r)\n"
   ]
  }
 ],
 "metadata": {
  "kernelspec": {
   "display_name": "Python 3 (ipykernel)",
   "language": "python",
   "name": "python3"
  },
  "language_info": {
   "codemirror_mode": {
    "name": "ipython",
    "version": 3
   },
   "file_extension": ".py",
   "mimetype": "text/x-python",
   "name": "python",
   "nbconvert_exporter": "python",
   "pygments_lexer": "ipython3",
   "version": "3.11.5"
  }
 },
 "nbformat": 4,
 "nbformat_minor": 5
}
